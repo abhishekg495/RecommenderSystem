{
 "cells": [
  {
   "cell_type": "code",
   "execution_count": 75,
   "id": "9dfb8254",
   "metadata": {},
   "outputs": [],
   "source": [
    "import numpy as np\n",
    "import pandas as pd\n",
    "import requests as req\n",
    "from bs4 import BeautifulSoup\n",
    "import urllib.request\n",
    "import json\n",
    "from tqdm import notebook\n",
    "from sklearn.feature_extraction.text import TfidfVectorizer\n",
    "from sklearn.metrics.pairwise import sigmoid_kernel\n",
    "# from ipywidgets import IntProgress\n",
    "# from IPython.display import display"
   ]
  },
  {
   "cell_type": "code",
   "execution_count": 62,
   "id": "1689cb15",
   "metadata": {},
   "outputs": [],
   "source": [
    "# def convert_to_valid_id(imdbId):\n",
    "#     imdbId = str(imdbId)\n",
    "#     while(len(imdbId)<7):\n",
    "#         imdbId = \"0\"+imdbId\n",
    "#     return imdbId\n",
    "\n",
    "# movies = pd.read_csv(\"Datasets/movies.csv\")\n",
    "# links = pd.read_csv(\"Datasets/links.csv\")\n",
    "# tags = pd.read_csv(\"Datasets/tags.csv\")"
   ]
  },
  {
   "cell_type": "code",
   "execution_count": 188,
   "id": "40868436",
   "metadata": {},
   "outputs": [
    {
     "data": {
      "text/plain": [
       "['title', 'genres', 'synopsis', 'keywords', 'actors', 'directors']"
      ]
     },
     "execution_count": 188,
     "metadata": {},
     "output_type": "execute_result"
    }
   ],
   "source": [
    "movies_features=pd.read_csv(\"Datasets/movies_features.csv\",index_col=[0])\n",
    "list(movies_features.columns)"
   ]
  },
  {
   "cell_type": "code",
   "execution_count": 48,
   "id": "406c67bf",
   "metadata": {},
   "outputs": [
    {
     "data": {
      "application/vnd.jupyter.widget-view+json": {
       "model_id": "f161abb1a4a54c47a34b310be2b03560",
       "version_major": 2,
       "version_minor": 0
      },
      "text/plain": [
       "  0%|          | 0/9742 [00:00<?, ?it/s]"
      ]
     },
     "metadata": {},
     "output_type": "display_data"
    }
   ],
   "source": [
    "# IMDB_BASE_URL = \"http://www.imdb.com/title/tt\"\n",
    "# TMDB_BASE_URL = \"http://www.themoviedb.org/movie/\"\n",
    "\n",
    "# # r = req.get(IMDB_BASE_URL+\"0113497\").text\n",
    "# # soup = BeautifulSoup(r,'html.parser')\n",
    "# # movies_features.loc[:,'imdb_link'] = movies_features['imdbId'].apply(lambda x: IMDB_BASE_URL + convert_to_valid_id(x))\n",
    "# count = 0 ##count of movies whose data could not be fetched\n",
    "\n",
    "# synopsis_col = movies_features.columns.get_loc('synopsis')\n",
    "# genres_col = movies_features.columns.get_loc('genres')\n",
    "# keywords_col = movies_features.columns.get_loc('keywords')\n",
    "# actors_col = movies_features.columns.get_loc('actors')\n",
    "# directors_col = movies_features.columns.get_loc('directors')\n",
    "\n",
    "# for i in notebook.tqdm(range(len(movies_features))):\n",
    "#     if(type(movies_features.loc[i,'synopsis'])==float):\n",
    "#         res = req.get(movies_features.iloc[i]['imdb_link'])\n",
    "#         if res.status_code==404:\n",
    "#             continue\n",
    "#         soup = BeautifulSoup(res.text,'html.parser')\n",
    "#         data = json.loads(soup.find('script').encode_contents())\n",
    "# #             print(data)\n",
    "#         if \"description\" in data:\n",
    "#             movies_features.iat[i,synopsis_col] = data['description']\n",
    "#         if \"keywords\" in data:\n",
    "#             movies_features.iat[i,keywords_col] = data['keywords']\n",
    "#         if \"actor\" in data:\n",
    "#             movies_features.iat[i,actors_col] = \" \".join([actor['name'] if actor['@type']=='Person' else '' for actor in data['actor']])\n",
    "#         if \"director\" in data:\n",
    "#             movies_features.iat[i,directors_col] = \" \".join([director['name'] if director['@type']=='Person' else '' for director in data['director']])\n",
    "#     movies_features.iat[i,genres_col] = movies_features.iat[i,genres_col].replace('|',' ')\n",
    "        "
   ]
  },
  {
   "cell_type": "code",
   "execution_count": 5,
   "id": "2c21ba69",
   "metadata": {
    "scrolled": false
   },
   "outputs": [],
   "source": [
    "########## SCRIPT TO DOWNLOAD ALL MOVIES' POSTERS ##################################################################\n",
    "# for i in range(len(links.index)):\n",
    "#     imdb_id = str(links.iloc[i]['imdbId'])\n",
    "#     while(len(imdb_id)<7):\n",
    "#         imdb_id = \"0\"+imdb_id\n",
    "#     movie_id = str(links.iloc[i]['movieId'])\n",
    "#     try:\n",
    "#         r = req.get(IMDB_BASE_URL + imdb_id)\n",
    "#         soup = BeautifulSoup(r.text,'html.parser')\n",
    "#         links_array = soup.find('img').get('srcset').split(', ')\n",
    "#         urllib.request.urlretrieve(links_array[len(links_array)-1].split(' ')[0], \"Posters/\" + movie_id + \".jpg\")\n",
    "#     except:\n",
    "#         image_unavailable_url = \"https://westsiderc.org/wp-content/uploads/2019/08/Image-Not-Available.png\"\n",
    "#         urllib.request.urlretrieve(image_unavailable_url, \"Posters/\" + movie_id + \".jpg\")\n",
    "#####################################################################################################################        "
   ]
  },
  {
   "cell_type": "code",
   "execution_count": 58,
   "id": "7489304e",
   "metadata": {},
   "outputs": [],
   "source": [
    "# movies_features.to_csv(\"Datasets/movies_features.csv\")"
   ]
  },
  {
   "cell_type": "code",
   "execution_count": 189,
   "id": "b0c30f95",
   "metadata": {},
   "outputs": [
    {
     "data": {
      "text/html": [
       "<div>\n",
       "<style scoped>\n",
       "    .dataframe tbody tr th:only-of-type {\n",
       "        vertical-align: middle;\n",
       "    }\n",
       "\n",
       "    .dataframe tbody tr th {\n",
       "        vertical-align: top;\n",
       "    }\n",
       "\n",
       "    .dataframe thead th {\n",
       "        text-align: right;\n",
       "    }\n",
       "</style>\n",
       "<table border=\"1\" class=\"dataframe\">\n",
       "  <thead>\n",
       "    <tr style=\"text-align: right;\">\n",
       "      <th></th>\n",
       "      <th>title</th>\n",
       "      <th>genres</th>\n",
       "      <th>synopsis</th>\n",
       "      <th>keywords</th>\n",
       "      <th>actors</th>\n",
       "      <th>directors</th>\n",
       "      <th>features</th>\n",
       "    </tr>\n",
       "    <tr>\n",
       "      <th>movieId</th>\n",
       "      <th></th>\n",
       "      <th></th>\n",
       "      <th></th>\n",
       "      <th></th>\n",
       "      <th></th>\n",
       "      <th></th>\n",
       "      <th></th>\n",
       "    </tr>\n",
       "  </thead>\n",
       "  <tbody>\n",
       "    <tr>\n",
       "      <th>193583</th>\n",
       "      <td>No Game No Life: Zero (2017)</td>\n",
       "      <td>Animation Comedy Fantasy</td>\n",
       "      <td>Adaption of the sixth Light Novel of series, i...</td>\n",
       "      <td>based on manga, based on anime, anime, isekai</td>\n",
       "      <td>Alexandra Bedford Jessica Boone Ricardo Contreras</td>\n",
       "      <td>Atsuko Ishizuka</td>\n",
       "      <td>Adaption of the sixth Light Novel of series, i...</td>\n",
       "    </tr>\n",
       "    <tr>\n",
       "      <th>193585</th>\n",
       "      <td>Flint (2017)</td>\n",
       "      <td>Drama</td>\n",
       "      <td>A woman deals with the toxic water scandal in ...</td>\n",
       "      <td>michigan, flint michigan, mother, city council...</td>\n",
       "      <td>Queen Latifah Betsy Brandt Marin Ireland</td>\n",
       "      <td>Bruce Beresford</td>\n",
       "      <td>A woman deals with the toxic water scandal in ...</td>\n",
       "    </tr>\n",
       "    <tr>\n",
       "      <th>193587</th>\n",
       "      <td>Bungo Stray Dogs: Dead Apple (2018)</td>\n",
       "      <td>Action Animation</td>\n",
       "      <td>The Armed Detective Agency investigates a biza...</td>\n",
       "      <td>anime</td>\n",
       "      <td>Brian Beacock Ray Chase Lucien Dodge</td>\n",
       "      <td>Takuya Igarashi</td>\n",
       "      <td>The Armed Detective Agency investigates a biza...</td>\n",
       "    </tr>\n",
       "    <tr>\n",
       "      <th>193609</th>\n",
       "      <td>Andrew Dice Clay: Dice Rules (1991)</td>\n",
       "      <td>Comedy</td>\n",
       "      <td>Outrageous, misogynistic and vulgar-to-the-max...</td>\n",
       "      <td>stand up, stand up comedian, leather jacket, c...</td>\n",
       "      <td>Andrew Dice Clay Eddie Griffin Sylvia Harman</td>\n",
       "      <td>Jay Dubin</td>\n",
       "      <td>Outrageous, misogynistic and vulgar-to-the-max...</td>\n",
       "    </tr>\n",
       "    <tr>\n",
       "      <th>-1</th>\n",
       "      <td>user input</td>\n",
       "      <td></td>\n",
       "      <td></td>\n",
       "      <td></td>\n",
       "      <td></td>\n",
       "      <td></td>\n",
       "      <td></td>\n",
       "    </tr>\n",
       "  </tbody>\n",
       "</table>\n",
       "</div>"
      ],
      "text/plain": [
       "                                       title                    genres  \\\n",
       "movieId                                                                  \n",
       " 193583         No Game No Life: Zero (2017)  Animation Comedy Fantasy   \n",
       " 193585                         Flint (2017)                     Drama   \n",
       " 193587  Bungo Stray Dogs: Dead Apple (2018)          Action Animation   \n",
       " 193609  Andrew Dice Clay: Dice Rules (1991)                    Comedy   \n",
       "-1                                user input                             \n",
       "\n",
       "                                                  synopsis  \\\n",
       "movieId                                                      \n",
       " 193583  Adaption of the sixth Light Novel of series, i...   \n",
       " 193585  A woman deals with the toxic water scandal in ...   \n",
       " 193587  The Armed Detective Agency investigates a biza...   \n",
       " 193609  Outrageous, misogynistic and vulgar-to-the-max...   \n",
       "-1                                                           \n",
       "\n",
       "                                                  keywords  \\\n",
       "movieId                                                      \n",
       " 193583      based on manga, based on anime, anime, isekai   \n",
       " 193585  michigan, flint michigan, mother, city council...   \n",
       " 193587                                              anime   \n",
       " 193609  stand up, stand up comedian, leather jacket, c...   \n",
       "-1                                                           \n",
       "\n",
       "                                                    actors        directors  \\\n",
       "movieId                                                                       \n",
       " 193583  Alexandra Bedford Jessica Boone Ricardo Contreras  Atsuko Ishizuka   \n",
       " 193585           Queen Latifah Betsy Brandt Marin Ireland  Bruce Beresford   \n",
       " 193587               Brian Beacock Ray Chase Lucien Dodge  Takuya Igarashi   \n",
       " 193609       Andrew Dice Clay Eddie Griffin Sylvia Harman        Jay Dubin   \n",
       "-1                                                                            \n",
       "\n",
       "                                                  features  \n",
       "movieId                                                     \n",
       " 193583  Adaption of the sixth Light Novel of series, i...  \n",
       " 193585  A woman deals with the toxic water scandal in ...  \n",
       " 193587  The Armed Detective Agency investigates a biza...  \n",
       " 193609  Outrageous, misogynistic and vulgar-to-the-max...  \n",
       "-1                                                          "
      ]
     },
     "execution_count": 189,
     "metadata": {},
     "output_type": "execute_result"
    }
   ],
   "source": [
    "# movies_features[['movieId','title','genres','synopsis','keywords','actors','directors']]\n",
    "movies_features = movies_features.fillna('')\n",
    "movies_features['features'] = movies_features['synopsis'] + movies_features['actors'] + movies_features['genres'] + movies_features['directors'] + movies_features['keywords']\n",
    "# movies_features = movies_features.append({'title':'user input'}, ignore_index=True)\n",
    "movies_features.iat[movies_features.shape[0]-1,movies_features.columns.get_loc('features')] = ''\n",
    "movies_features.tail()"
   ]
  },
  {
   "cell_type": "code",
   "execution_count": 173,
   "id": "a4905e64",
   "metadata": {},
   "outputs": [],
   "source": [
    "tfv = TfidfVectorizer(\n",
    "            min_df=1,\n",
    "            max_features=None,\n",
    "            strip_accents=\"unicode\",\n",
    "            analyzer=\"word\",\n",
    "            token_pattern=r\"\\w{1,}\",\n",
    "            ngram_range=(1, 3),\n",
    "            stop_words=\"english\",\n",
    ")\n",
    "\n",
    "tfv_matrix = tfv.fit_transform(movies_features[\"features\"])"
   ]
  },
  {
   "cell_type": "code",
   "execution_count": 174,
   "id": "e5c3c361",
   "metadata": {},
   "outputs": [],
   "source": [
    "sig = sigmoid_kernel(tfv_matrix, tfv_matrix)"
   ]
  },
  {
   "cell_type": "code",
   "execution_count": 175,
   "id": "1d6f4894",
   "metadata": {},
   "outputs": [
    {
     "data": {
      "text/plain": [
       "'When Harry Met Sally... (1989)'"
      ]
     },
     "execution_count": 175,
     "metadata": {},
     "output_type": "execute_result"
    }
   ],
   "source": [
    "indices = pd.Series(movies_features.index,index=movies_features['title']).drop_duplicates()\n",
    "indices.index[1005]"
   ]
  },
  {
   "cell_type": "code",
   "execution_count": 176,
   "id": "d9da2982",
   "metadata": {},
   "outputs": [],
   "source": [
    "def recommend(title='user input'):\n",
    "\n",
    "        # Get the index corresponding to original_title\n",
    "        idx = indices[title]\n",
    "\n",
    "        # Get the pairwsie similarity scores\n",
    "        sig_scores = list(enumerate(sig[idx]))\n",
    "\n",
    "        # Sort the movies\n",
    "        sig_scores = sorted(sig_scores, key=lambda x: x[1], reverse=True)\n",
    "\n",
    "        # Scores of the 10 most similar movies\n",
    "        sig_scores = sig_scores[1:11]\n",
    "\n",
    "        # Movie indices\n",
    "        movie_indices = [i[0] for i in sig_scores]\n",
    "\n",
    "        # Top 10 most similar movies\n",
    "        return movies_features[\"title\"].iloc[movie_indices]"
   ]
  },
  {
   "cell_type": "code",
   "execution_count": 177,
   "id": "49f1bb60",
   "metadata": {},
   "outputs": [
    {
     "data": {
      "text/plain": [
       "1945                 Following (1998)\n",
       "3141                   Memento (2000)\n",
       "3839                  Insomnia (2002)\n",
       "5917             Batman Begins (2005)\n",
       "6331             Prestige, The (2006)\n",
       "6710          Dark Knight, The (2008)\n",
       "7372                 Inception (2010)\n",
       "7768    Dark Knight Rises, The (2012)\n",
       "8376              Interstellar (2014)\n",
       "9571                   Dunkirk (2017)\n",
       "Name: title, dtype: object"
      ]
     },
     "execution_count": 177,
     "metadata": {},
     "output_type": "execute_result"
    }
   ],
   "source": [
    "recommend()"
   ]
  },
  {
   "cell_type": "code",
   "execution_count": 190,
   "id": "07c0c4d0",
   "metadata": {},
   "outputs": [],
   "source": [
    "movies_features[['title','genres','synopsis','keywords','actors','directors','features']].to_csv(\"Datasets/movies_features.csv\")"
   ]
  },
  {
   "cell_type": "code",
   "execution_count": null,
   "id": "2f41bdb4",
   "metadata": {},
   "outputs": [],
   "source": []
  }
 ],
 "metadata": {
  "kernelspec": {
   "display_name": "Python 3",
   "language": "python",
   "name": "python3"
  },
  "language_info": {
   "codemirror_mode": {
    "name": "ipython",
    "version": 3
   },
   "file_extension": ".py",
   "mimetype": "text/x-python",
   "name": "python",
   "nbconvert_exporter": "python",
   "pygments_lexer": "ipython3",
   "version": "3.8.8"
  }
 },
 "nbformat": 4,
 "nbformat_minor": 5
}
