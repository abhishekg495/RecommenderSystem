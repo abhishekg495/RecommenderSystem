{
 "cells": [
  {
   "cell_type": "code",
   "execution_count": 1,
   "id": "9dfb8254",
   "metadata": {},
   "outputs": [],
   "source": [
    "import numpy as np\n",
    "import pandas as pd\n",
    "import requests as req\n",
    "from bs4 import BeautifulSoup\n",
    "import urllib.request\n",
    "import json\n",
    "from tqdm import notebook\n",
    "from sklearn.feature_extraction.text import TfidfVectorizer\n",
    "from sklearn.metrics.pairwise import sigmoid_kernel, cosine_similarity\n",
    "# from ipywidgets import IntProgress\n",
    "# from IPython.display import display"
   ]
  },
  {
   "cell_type": "code",
   "execution_count": 2,
   "id": "1689cb15",
   "metadata": {},
   "outputs": [],
   "source": [
    "# def convert_to_valid_id(imdbId):\n",
    "#     imdbId = str(imdbId)\n",
    "#     while(len(imdbId)<7):\n",
    "#         imdbId = \"0\"+imdbId\n",
    "#     return imdbId\n",
    "\n",
    "# movies = pd.read_csv(\"Datasets/movies.csv\")\n",
    "# links = pd.read_csv(\"Datasets/links.csv\")\n",
    "# tags = pd.read_csv(\"Datasets/tags.csv\")"
   ]
  },
  {
   "cell_type": "code",
   "execution_count": 12,
   "id": "40868436",
   "metadata": {},
   "outputs": [
    {
     "data": {
      "text/html": [
       "<div>\n",
       "<style scoped>\n",
       "    .dataframe tbody tr th:only-of-type {\n",
       "        vertical-align: middle;\n",
       "    }\n",
       "\n",
       "    .dataframe tbody tr th {\n",
       "        vertical-align: top;\n",
       "    }\n",
       "\n",
       "    .dataframe thead th {\n",
       "        text-align: right;\n",
       "    }\n",
       "</style>\n",
       "<table border=\"1\" class=\"dataframe\">\n",
       "  <thead>\n",
       "    <tr style=\"text-align: right;\">\n",
       "      <th></th>\n",
       "      <th>title</th>\n",
       "      <th>genres</th>\n",
       "      <th>synopsis</th>\n",
       "      <th>keywords</th>\n",
       "      <th>actors</th>\n",
       "      <th>directors</th>\n",
       "      <th>features</th>\n",
       "      <th>movieId</th>\n",
       "    </tr>\n",
       "  </thead>\n",
       "  <tbody>\n",
       "    <tr>\n",
       "      <th>0</th>\n",
       "      <td>Shawshank Redemption, The (1994)</td>\n",
       "      <td>Crime Drama</td>\n",
       "      <td>Two imprisoned men bond over a number of years...</td>\n",
       "      <td>wrongful imprisonment, prison, based on the wo...</td>\n",
       "      <td>Tim Robbins Morgan Freeman Bob Gunton</td>\n",
       "      <td>Frank Darabont</td>\n",
       "      <td>Two imprisoned men bond over a number of years...</td>\n",
       "      <td>318</td>\n",
       "    </tr>\n",
       "    <tr>\n",
       "      <th>1</th>\n",
       "      <td>Forrest Gump (1994)</td>\n",
       "      <td>Comedy Drama Romance War</td>\n",
       "      <td>The presidencies of Kennedy and Johnson, the V...</td>\n",
       "      <td>vietnam war, based on book, vietnam, mother, f...</td>\n",
       "      <td>Tom Hanks Robin Wright Gary Sinise</td>\n",
       "      <td>Robert Zemeckis</td>\n",
       "      <td>The presidencies of Kennedy and Johnson, the V...</td>\n",
       "      <td>356</td>\n",
       "    </tr>\n",
       "    <tr>\n",
       "      <th>2</th>\n",
       "      <td>Pulp Fiction (1994)</td>\n",
       "      <td>Comedy Crime Drama Thriller</td>\n",
       "      <td>The lives of two mob hitmen, a boxer, a gangst...</td>\n",
       "      <td>nonlinear timeline, overdose, drug use, drug o...</td>\n",
       "      <td>John Travolta Uma Thurman Samuel L. Jackson</td>\n",
       "      <td>Quentin Tarantino</td>\n",
       "      <td>The lives of two mob hitmen, a boxer, a gangst...</td>\n",
       "      <td>296</td>\n",
       "    </tr>\n",
       "    <tr>\n",
       "      <th>3</th>\n",
       "      <td>Matrix, The (1999)</td>\n",
       "      <td>Action Sci-Fi Thriller</td>\n",
       "      <td>When a beautiful stranger leads computer hacke...</td>\n",
       "      <td>artificial reality, war with machines, simulat...</td>\n",
       "      <td>Keanu Reeves Laurence Fishburne Carrie-Anne Moss</td>\n",
       "      <td>Lana Wachowski Lilly Wachowski</td>\n",
       "      <td>When a beautiful stranger leads computer hacke...</td>\n",
       "      <td>2571</td>\n",
       "    </tr>\n",
       "    <tr>\n",
       "      <th>4</th>\n",
       "      <td>Silence of the Lambs, The (1991)</td>\n",
       "      <td>Crime Horror Thriller</td>\n",
       "      <td>A young F.B.I. cadet must receive the help of ...</td>\n",
       "      <td>serial killer, psycho thriller, stuck in a wel...</td>\n",
       "      <td>Jodie Foster Anthony Hopkins Lawrence A. Bonney</td>\n",
       "      <td>Jonathan Demme</td>\n",
       "      <td>A young F.B.I. cadet must receive the help of ...</td>\n",
       "      <td>593</td>\n",
       "    </tr>\n",
       "  </tbody>\n",
       "</table>\n",
       "</div>"
      ],
      "text/plain": [
       "                              title                       genres  \\\n",
       "0  Shawshank Redemption, The (1994)                  Crime Drama   \n",
       "1               Forrest Gump (1994)     Comedy Drama Romance War   \n",
       "2               Pulp Fiction (1994)  Comedy Crime Drama Thriller   \n",
       "3                Matrix, The (1999)       Action Sci-Fi Thriller   \n",
       "4  Silence of the Lambs, The (1991)        Crime Horror Thriller   \n",
       "\n",
       "                                            synopsis  \\\n",
       "0  Two imprisoned men bond over a number of years...   \n",
       "1  The presidencies of Kennedy and Johnson, the V...   \n",
       "2  The lives of two mob hitmen, a boxer, a gangst...   \n",
       "3  When a beautiful stranger leads computer hacke...   \n",
       "4  A young F.B.I. cadet must receive the help of ...   \n",
       "\n",
       "                                            keywords  \\\n",
       "0  wrongful imprisonment, prison, based on the wo...   \n",
       "1  vietnam war, based on book, vietnam, mother, f...   \n",
       "2  nonlinear timeline, overdose, drug use, drug o...   \n",
       "3  artificial reality, war with machines, simulat...   \n",
       "4  serial killer, psycho thriller, stuck in a wel...   \n",
       "\n",
       "                                             actors  \\\n",
       "0             Tim Robbins Morgan Freeman Bob Gunton   \n",
       "1                Tom Hanks Robin Wright Gary Sinise   \n",
       "2       John Travolta Uma Thurman Samuel L. Jackson   \n",
       "3  Keanu Reeves Laurence Fishburne Carrie-Anne Moss   \n",
       "4   Jodie Foster Anthony Hopkins Lawrence A. Bonney   \n",
       "\n",
       "                        directors  \\\n",
       "0                  Frank Darabont   \n",
       "1                 Robert Zemeckis   \n",
       "2               Quentin Tarantino   \n",
       "3  Lana Wachowski Lilly Wachowski   \n",
       "4                  Jonathan Demme   \n",
       "\n",
       "                                            features  movieId  \n",
       "0  Two imprisoned men bond over a number of years...      318  \n",
       "1  The presidencies of Kennedy and Johnson, the V...      356  \n",
       "2  The lives of two mob hitmen, a boxer, a gangst...      296  \n",
       "3  When a beautiful stranger leads computer hacke...     2571  \n",
       "4  A young F.B.I. cadet must receive the help of ...      593  "
      ]
     },
     "execution_count": 12,
     "metadata": {},
     "output_type": "execute_result"
    }
   ],
   "source": [
    "movies_features=pd.read_csv(\"Datasets/movies_features.csv\",index_col=[0])\n",
    "movies_sorted = pd.read_csv(\"Datasets/ratings_sorted_movies.csv\",index_col=[0])\n",
    "\n",
    "movies_features = movies_features.merge(movies_sorted[['movieId']],left_index=True,right_on='movieId',how='right')\n",
    "movies_features[list((title in list(movies_features['title'].head()) for title in movies_features['title']))]"
   ]
  },
  {
   "cell_type": "code",
   "execution_count": 195,
   "id": "406c67bf",
   "metadata": {},
   "outputs": [],
   "source": [
    "# IMDB_BASE_URL = \"http://www.imdb.com/title/tt\"\n",
    "# TMDB_BASE_URL = \"http://www.themoviedb.org/movie/\"\n",
    "\n",
    "# # r = req.get(IMDB_BASE_URL+\"0113497\").text\n",
    "# # soup = BeautifulSoup(r,'html.parser')\n",
    "# # movies_features.loc[:,'imdb_link'] = movies_features['imdbId'].apply(lambda x: IMDB_BASE_URL + convert_to_valid_id(x))\n",
    "# count = 0 ##count of movies whose data could not be fetched\n",
    "\n",
    "# synopsis_col = movies_features.columns.get_loc('synopsis')\n",
    "# genres_col = movies_features.columns.get_loc('genres')\n",
    "# keywords_col = movies_features.columns.get_loc('keywords')\n",
    "# actors_col = movies_features.columns.get_loc('actors')\n",
    "# directors_col = movies_features.columns.get_loc('directors')\n",
    "\n",
    "# for i in notebook.tqdm(range(len(movies_features))):\n",
    "#     if(type(movies_features.loc[i,'synopsis'])==float):\n",
    "#         res = req.get(movies_features.iloc[i]['imdb_link'])\n",
    "#         if res.status_code==404:\n",
    "#             continue\n",
    "#         soup = BeautifulSoup(res.text,'html.parser')\n",
    "#         data = json.loads(soup.find('script').encode_contents())\n",
    "# #             print(data)\n",
    "#         if \"description\" in data:\n",
    "#             movies_features.iat[i,synopsis_col] = data['description']\n",
    "#         if \"keywords\" in data:\n",
    "#             movies_features.iat[i,keywords_col] = data['keywords']\n",
    "#         if \"actor\" in data:\n",
    "#             movies_features.iat[i,actors_col] = \" \".join([actor['name'] if actor['@type']=='Person' else '' for actor in data['actor']])\n",
    "#         if \"director\" in data:\n",
    "#             movies_features.iat[i,directors_col] = \" \".join([director['name'] if director['@type']=='Person' else '' for director in data['director']])\n",
    "#     movies_features.iat[i,genres_col] = movies_features.iat[i,genres_col].replace('|',' ')\n",
    "        "
   ]
  },
  {
   "cell_type": "code",
   "execution_count": 5,
   "id": "2c21ba69",
   "metadata": {
    "scrolled": false
   },
   "outputs": [],
   "source": [
    "########## SCRIPT TO DOWNLOAD ALL MOVIES' POSTERS ##################################################################\n",
    "# for i in range(len(links.index)):\n",
    "#     imdb_id = str(links.iloc[i]['imdbId'])\n",
    "#     while(len(imdb_id)<7):\n",
    "#         imdb_id = \"0\"+imdb_id\n",
    "#     movie_id = str(links.iloc[i]['movieId'])\n",
    "#     try:\n",
    "#         r = req.get(IMDB_BASE_URL + imdb_id)\n",
    "#         soup = BeautifulSoup(r.text,'html.parser')\n",
    "#         links_array = soup.find('img').get('srcset').split(', ')\n",
    "#         urllib.request.urlretrieve(links_array[len(links_array)-1].split(' ')[0], \"Posters/\" + movie_id + \".jpg\")\n",
    "#     except:\n",
    "#         image_unavailable_url = \"https://westsiderc.org/wp-content/uploads/2019/08/Image-Not-Available.png\"\n",
    "#         urllib.request.urlretrieve(image_unavailable_url, \"Posters/\" + movie_id + \".jpg\")\n",
    "#####################################################################################################################        "
   ]
  },
  {
   "cell_type": "code",
   "execution_count": 58,
   "id": "7489304e",
   "metadata": {},
   "outputs": [],
   "source": [
    "# movies_features.to_csv(\"Datasets/movies_features.csv\")"
   ]
  },
  {
   "cell_type": "code",
   "execution_count": 359,
   "id": "b0c30f95",
   "metadata": {},
   "outputs": [],
   "source": [
    "# movies_features[['movieId','title','genres','synopsis','keywords','actors','directors']]\n",
    "movies_features = movies_features.fillna('')\n",
    "movies_features['features'] = movies_features['synopsis'] + \" \" + movies_features['actors'] + \" \" + movies_features['genres'] + \" \" + movies_features['directors'] + \" \" + movies_features['keywords']\n",
    "# movies_features = movies_features.append({'title':'user input'}, ignore_index=True)"
   ]
  },
  {
   "cell_type": "code",
   "execution_count": 361,
   "id": "c682eef8",
   "metadata": {},
   "outputs": [
    {
     "data": {
      "text/plain": [
       "0       [0.0]\n",
       "1       [0.0]\n",
       "2       [0.0]\n",
       "3       [0.0]\n",
       "4       [0.0]\n",
       "        ...  \n",
       "2116    [0.0]\n",
       "2117    [0.0]\n",
       "2118    [0.0]\n",
       "2119    [0.0]\n",
       "2120    [0.0]\n",
       "Name: features, Length: 2121, dtype: object"
      ]
     },
     "execution_count": 361,
     "metadata": {},
     "output_type": "execute_result"
    }
   ],
   "source": [
    "tfv = TfidfVectorizer(\n",
    "            min_df=1,\n",
    "            max_features=None,\n",
    "            strip_accents=\"unicode\",\n",
    "            analyzer=\"word\",\n",
    "            token_pattern=r\"\\w{1,}\",\n",
    "            ngram_range=(1, 3),\n",
    "            stop_words=\"english\",\n",
    ")\n",
    "\n",
    "# tfv.fit([\"Batman Robin Superman Wonder-Woman\"],[\"Batman Bane Nolan Joker\"])\n",
    "tfv.fit(movies_features['features'])\n",
    "movies_features[\"features\"].apply(lambda x: cosine_similarity(tfv.transform([x]),tfv.transform([\"Batman\"]))[0])"
   ]
  },
  {
   "cell_type": "code",
   "execution_count": 198,
   "id": "5f74845f",
   "metadata": {},
   "outputs": [],
   "source": [
    "sig = sigmoid_kernel(tfv_matrix, tfv_matrix)"
   ]
  },
  {
   "cell_type": "code",
   "execution_count": 199,
   "id": "4454468d",
   "metadata": {},
   "outputs": [
    {
     "data": {
      "text/plain": [
       "'When Harry Met Sally... (1989)'"
      ]
     },
     "execution_count": 199,
     "metadata": {},
     "output_type": "execute_result"
    }
   ],
   "source": [
    "indices = pd.Series(movies_features.index,index=movies_features['title']).drop_duplicates()\n",
    "indices.index[1005]"
   ]
  },
  {
   "cell_type": "code",
   "execution_count": 200,
   "id": "e4a5aac6",
   "metadata": {},
   "outputs": [],
   "source": [
    "def recommend(title='user input'):\n",
    "\n",
    "        # Get the index corresponding to original_title\n",
    "        idx = indices[title]\n",
    "\n",
    "        # Get the pairwsie similarity scores\n",
    "        sig_scores = list(enumerate(sig[idx]))\n",
    "\n",
    "        # Sort the movies\n",
    "        sig_scores = sorted(sig_scores, key=lambda x: x[1], reverse=True)\n",
    "\n",
    "        # Scores of the 10 most similar movies\n",
    "        sig_scores = sig_scores[1:11]\n",
    "\n",
    "        # Movie indices\n",
    "        movie_indices = [i[0] for i in sig_scores]\n",
    "\n",
    "        # Top 10 most similar movies\n",
    "        return movies_features[\"title\"].iloc[movie_indices]"
   ]
  },
  {
   "cell_type": "code",
   "execution_count": 201,
   "id": "9fb12f27",
   "metadata": {},
   "outputs": [
    {
     "data": {
      "text/plain": [
       "movieId\n",
       "2                         Jumanji (1995)\n",
       "3                Grumpier Old Men (1995)\n",
       "4               Waiting to Exhale (1995)\n",
       "5     Father of the Bride Part II (1995)\n",
       "6                            Heat (1995)\n",
       "7                         Sabrina (1995)\n",
       "8                    Tom and Huck (1995)\n",
       "9                    Sudden Death (1995)\n",
       "10                      GoldenEye (1995)\n",
       "11        American President, The (1995)\n",
       "Name: title, dtype: object"
      ]
     },
     "execution_count": 201,
     "metadata": {},
     "output_type": "execute_result"
    }
   ],
   "source": [
    "recommend()"
   ]
  },
  {
   "cell_type": "code",
   "execution_count": 191,
   "id": "eca63421",
   "metadata": {},
   "outputs": [],
   "source": [
    "movies_features[['title','genres','synopsis','keywords','actors','directors','features']].to_csv(\"Datasets/movies_features.csv\")"
   ]
  },
  {
   "cell_type": "code",
   "execution_count": 206,
   "id": "3b04aa52",
   "metadata": {},
   "outputs": [],
   "source": [
    "from fuzzywuzzy import fuzz\n",
    "from fuzzywuzzy import process"
   ]
  },
  {
   "cell_type": "code",
   "execution_count": 281,
   "id": "6f89d72d",
   "metadata": {},
   "outputs": [
    {
     "data": {
      "text/plain": [
       "8752    32\n",
       "3780    26\n",
       "2556    23\n",
       "8591    21\n",
       "1659    21\n",
       "        ..\n",
       "585      0\n",
       "9655     0\n",
       "9155     0\n",
       "5620     0\n",
       "9742     0\n",
       "Length: 9743, dtype: int64"
      ]
     },
     "execution_count": 281,
     "metadata": {},
     "output_type": "execute_result"
    }
   ],
   "source": [
    "pd.Series([fuzz.token_sort_ratio(movies_features.loc[i,'synopsis'], 'Batman') for i in movies_features.index]).sort_values(ascending=False)"
   ]
  },
  {
   "cell_type": "code",
   "execution_count": 250,
   "id": "7b11846b",
   "metadata": {},
   "outputs": [],
   "source": [
    "movies_features = movies_features.dropna(thresh=3,axis=1)"
   ]
  },
  {
   "cell_type": "code",
   "execution_count": 277,
   "id": "7204bb1d",
   "metadata": {
    "scrolled": true
   },
   "outputs": [
    {
     "data": {
      "text/plain": [
       "movieId\n",
       " 720       24\n",
       " 86668     24\n",
       " 27155     13\n",
       " 190221    12\n",
       " 791       12\n",
       "           ..\n",
       " 129937     2\n",
       " 132084     2\n",
       " 133867     2\n",
       " 8360       2\n",
       "-1          0\n",
       "Name: features, Length: 9743, dtype: int64"
      ]
     },
     "execution_count": 277,
     "metadata": {},
     "output_type": "execute_result"
    }
   ],
   "source": [
    "movies_features['features'].apply(lambda x: fuzz.ratio(x, 'Batman')).sort_values(ascending=False)"
   ]
  },
  {
   "cell_type": "code",
   "execution_count": 284,
   "id": "62e71717",
   "metadata": {},
   "outputs": [
    {
     "data": {
      "text/plain": [
       "title                        Batman/Superman Movie, The (1998)\n",
       "genres       Action, Adventure, Animation, Children, Fantas...\n",
       "synopsis                                                      \n",
       "keywords                                                      \n",
       "actors                                                        \n",
       "directors                                                     \n",
       "features       Action, Adventure, Animation, Children, Fant...\n",
       "Name: 27155, dtype: object"
      ]
     },
     "execution_count": 284,
     "metadata": {},
     "output_type": "execute_result"
    }
   ],
   "source": [
    "movies_features.loc[27155]"
   ]
  },
  {
   "cell_type": "code",
   "execution_count": 264,
   "id": "14abebba",
   "metadata": {},
   "outputs": [
    {
     "data": {
      "text/plain": [
       "25"
      ]
     },
     "execution_count": 264,
     "metadata": {},
     "output_type": "execute_result"
    }
   ],
   "source": [
    "fuzz.ratio(\"Adventure|Animation|Comedy\",\"Batman\")"
   ]
  },
  {
   "cell_type": "code",
   "execution_count": 272,
   "id": "4224c5e2",
   "metadata": {},
   "outputs": [],
   "source": [
    "for i in range(len(movies_features)):\n",
    "    movies_features.iat[i,movies_features.columns.get_loc('genres')] = movies_features.iat[i,movies_features.columns.get_loc('genres')].replace('|',', ')"
   ]
  },
  {
   "cell_type": "code",
   "execution_count": null,
   "id": "ac7bace8",
   "metadata": {},
   "outputs": [],
   "source": []
  }
 ],
 "metadata": {
  "kernelspec": {
   "display_name": "Python 3",
   "language": "python",
   "name": "python3"
  },
  "language_info": {
   "codemirror_mode": {
    "name": "ipython",
    "version": 3
   },
   "file_extension": ".py",
   "mimetype": "text/x-python",
   "name": "python",
   "nbconvert_exporter": "python",
   "pygments_lexer": "ipython3",
   "version": "3.8.8"
  }
 },
 "nbformat": 4,
 "nbformat_minor": 5
}
