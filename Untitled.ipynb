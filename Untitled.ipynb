{
 "cells": [
  {
   "cell_type": "code",
   "execution_count": 1,
   "id": "9dfb8254",
   "metadata": {},
   "outputs": [],
   "source": [
    "import numpy as np\n",
    "import pandas as pd\n",
    "import requests as req\n",
    "from bs4 import BeautifulSoup\n",
    "import urllib.request"
   ]
  },
  {
   "cell_type": "code",
   "execution_count": 7,
   "id": "1689cb15",
   "metadata": {},
   "outputs": [],
   "source": [
    "movies = pd.read_csv(\"Datasets/movies.csv\")\n",
    "links = pd.read_csv(\"Datasets/links.csv\")"
   ]
  },
  {
   "cell_type": "code",
   "execution_count": 14,
   "id": "40868436",
   "metadata": {},
   "outputs": [
    {
     "data": {
      "text/plain": [
       "(9742, 7)"
      ]
     },
     "execution_count": 14,
     "metadata": {},
     "output_type": "execute_result"
    }
   ],
   "source": [
    "links = movies.merge(links,on='movieId',how='outer')\n",
    "links.shape"
   ]
  },
  {
   "cell_type": "code",
   "execution_count": 15,
   "id": "406c67bf",
   "metadata": {},
   "outputs": [
    {
     "data": {
      "text/plain": [
       "(9742, 3)"
      ]
     },
     "execution_count": 15,
     "metadata": {},
     "output_type": "execute_result"
    }
   ],
   "source": [
    "movies.shape"
   ]
  },
  {
   "cell_type": "code",
   "execution_count": 5,
   "id": "2c21ba69",
   "metadata": {
    "scrolled": false
   },
   "outputs": [],
   "source": [
    "TMDB_BASE_URL = \"http://www.themoviedb.org/movie/\"\n",
    "IMDB_BASE_URL = \"http://www.imdb.com/title/tt\"\n",
    "# for i in range(len(links.index)):\n",
    "#     imdb_id = str(links.iloc[i]['imdbId'])\n",
    "#     while(len(imdb_id)<7):\n",
    "#         imdb_id = \"0\"+imdb_id\n",
    "#     movie_id = str(links.iloc[i]['movieId'])\n",
    "#     try:\n",
    "#         r = req.get(IMDB_BASE_URL + imdb_id)\n",
    "#         soup = BeautifulSoup(r.text,'html.parser')\n",
    "#         links_array = soup.find('img').get('srcset').split(', ')\n",
    "#         urllib.request.urlretrieve(links_array[len(links_array)-1].split(' ')[0], \"Posters/\" + movie_id + \".jpg\")\n",
    "#     except:\n",
    "#         image_unavailable_url = \"https://westsiderc.org/wp-content/uploads/2019/08/Image-Not-Available.png\"\n",
    "#         urllib.request.urlretrieve(image_unavailable_url, \"Posters/\" + movie_id + \".jpg\")\n",
    "        "
   ]
  },
  {
   "cell_type": "code",
   "execution_count": null,
   "id": "7489304e",
   "metadata": {},
   "outputs": [],
   "source": []
  }
 ],
 "metadata": {
  "kernelspec": {
   "display_name": "Python 3",
   "language": "python",
   "name": "python3"
  },
  "language_info": {
   "codemirror_mode": {
    "name": "ipython",
    "version": 3
   },
   "file_extension": ".py",
   "mimetype": "text/x-python",
   "name": "python",
   "nbconvert_exporter": "python",
   "pygments_lexer": "ipython3",
   "version": "3.8.8"
  }
 },
 "nbformat": 4,
 "nbformat_minor": 5
}
