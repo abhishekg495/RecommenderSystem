{
 "cells": [
  {
   "cell_type": "markdown",
   "id": "971df002",
   "metadata": {},
   "source": [
    "## TF-IDF Based Content Filtering\n",
    "To filter out similar movies from a given title"
   ]
  },
  {
   "cell_type": "code",
   "execution_count": 45,
   "id": "b5336f04",
   "metadata": {},
   "outputs": [],
   "source": [
    "import numpy as np\n",
    "import pandas as pd\n",
    "import json\n",
    "from sklearn.feature_extraction.text import TfidfVectorizer\n",
    "from sklearn.metrics.pairwise import sigmoid_kernel"
   ]
  },
  {
   "cell_type": "code",
   "execution_count": 46,
   "id": "b120258f",
   "metadata": {},
   "outputs": [],
   "source": [
    "credits = pd.read_csv(\"../Datasets/tmdb_5000_credits.csv\")\n",
    "movies = pd.read_csv(\"../Datasets/tmdb_5000_movies.csv\")"
   ]
  },
  {
   "cell_type": "code",
   "execution_count": 132,
   "id": "8736b7d2",
   "metadata": {},
   "outputs": [
    {
     "data": {
      "text/plain": [
       "'Batman'"
      ]
     },
     "execution_count": 132,
     "metadata": {},
     "output_type": "execute_result"
    }
   ],
   "source": [
    "credits.rename(columns={'movie_id':'id'}, inplace=True)\n",
    "movies_merged_df = movies.merge(credits,on='id')\n",
    "movies_cleaned_df = movies_merged_df.drop(['crew','revenue','title_x','title_y','keywords','spoken_languages','budget','homepage','id','original_language','production_companies','production_countries','release_date','runtime','status','tagline'],axis=1)\n",
    "movies_summaries = movies_cleaned_df[['original_title','overview']]\n",
    "movies_summaries = movies_summaries.append({\"original_title\":\"New Movie\", \"overview\": \"In the 22nd century, a paraplegic Marine is dispatched to the moon Pandora on a unique mission, but becomes torn between following orders and protecting an alien civilization.\"}, ignore_index=True)\n",
    "movies_summaries.iloc[-1][\"overview\"] = \"Batman\"\n",
    "movies_summaries.loc[4803,\"overview\"]"
   ]
  },
  {
   "cell_type": "code",
   "execution_count": 120,
   "id": "83fb76d7",
   "metadata": {},
   "outputs": [],
   "source": [
    "tfv = TfidfVectorizer(min_df=1,  max_features=None, \n",
    "            strip_accents='unicode', analyzer='word',token_pattern=r'\\w{1,}',\n",
    "            ngram_range=(1, 3),\n",
    "            stop_words = 'english')\n",
    "movies_summaries['overview'] = movies_summaries['overview'].fillna('')"
   ]
  },
  {
   "cell_type": "code",
   "execution_count": 121,
   "id": "d5fd4a76",
   "metadata": {},
   "outputs": [],
   "source": [
    "tfv_matrix = tfv.fit_transform(movies_summaries['overview'])"
   ]
  },
  {
   "cell_type": "code",
   "execution_count": 122,
   "id": "76a681c8",
   "metadata": {},
   "outputs": [
    {
     "data": {
      "text/plain": [
       "'Batman'"
      ]
     },
     "execution_count": 122,
     "metadata": {},
     "output_type": "execute_result"
    }
   ],
   "source": [
    "movies_summaries.set_index('original_title').loc['New Movie']['overview']"
   ]
  },
  {
   "cell_type": "code",
   "execution_count": 123,
   "id": "d462fb77",
   "metadata": {},
   "outputs": [],
   "source": [
    "sig = sigmoid_kernel(tfv_matrix, tfv_matrix)\n",
    "indices = pd.Series(movies_summaries.index, index=movies_summaries['original_title']).drop_duplicates()"
   ]
  },
  {
   "cell_type": "code",
   "execution_count": 124,
   "id": "7ba24cdc",
   "metadata": {},
   "outputs": [],
   "source": [
    "def give_rec(title, sig=sig):\n",
    "    # Get the index corresponding to original_title\n",
    "    idx = indices[title]\n",
    "\n",
    "    # Get the pairwsie similarity scores \n",
    "    sig_scores = list(enumerate(sig[idx]))\n",
    "\n",
    "    # Sort the movies \n",
    "    sig_scores = sorted(sig_scores, key=lambda x: x[1], reverse=True)\n",
    "\n",
    "    # Scores of the 10 most similar movies\n",
    "    sig_scores = sig_scores[0:11]\n",
    "\n",
    "    # Movie indices\n",
    "    movie_indices = [i[0] for i in sig_scores]\n",
    "\n",
    "    # Top 10 most similar movies\n",
    "    return movies_summaries['original_title'].iloc[movie_indices]"
   ]
  },
  {
   "cell_type": "code",
   "execution_count": 125,
   "id": "274ca434",
   "metadata": {},
   "outputs": [
    {
     "data": {
      "text/plain": [
       "4803                                   New Movie\n",
       "428                               Batman Returns\n",
       "3854     Batman: The Dark Knight Returns, Part 2\n",
       "65                               The Dark Knight\n",
       "3                          The Dark Knight Rises\n",
       "299                               Batman Forever\n",
       "119                                Batman Begins\n",
       "210                               Batman & Robin\n",
       "9             Batman v Superman: Dawn of Justice\n",
       "0                                         Avatar\n",
       "1       Pirates of the Caribbean: At World's End\n",
       "Name: original_title, dtype: object"
      ]
     },
     "execution_count": 125,
     "metadata": {},
     "output_type": "execute_result"
    }
   ],
   "source": [
    "give_rec('New Movie')"
   ]
  },
  {
   "cell_type": "code",
   "execution_count": null,
   "id": "e328d30c",
   "metadata": {},
   "outputs": [],
   "source": []
  }
 ],
 "metadata": {
  "kernelspec": {
   "display_name": "Python 3",
   "language": "python",
   "name": "python3"
  },
  "language_info": {
   "codemirror_mode": {
    "name": "ipython",
    "version": 3
   },
   "file_extension": ".py",
   "mimetype": "text/x-python",
   "name": "python",
   "nbconvert_exporter": "python",
   "pygments_lexer": "ipython3",
   "version": "3.8.8"
  }
 },
 "nbformat": 4,
 "nbformat_minor": 5
}
